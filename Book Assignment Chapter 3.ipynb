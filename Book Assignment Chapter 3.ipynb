{
 "cells": [
  {
   "cell_type": "code",
   "execution_count": 5,
   "id": "d7a437e4",
   "metadata": {},
   "outputs": [
    {
     "name": "stdout",
     "output_type": "stream",
     "text": [
      "['trek', 'cannondale', 'redline', 'specialized']\n"
     ]
    }
   ],
   "source": [
    "bicycles = ['trek', 'cannondale', 'redline', 'specialized']\n",
    "print(bicycles)"
   ]
  },
  {
   "cell_type": "code",
   "execution_count": 6,
   "id": "efdb7918",
   "metadata": {},
   "outputs": [
    {
     "name": "stdout",
     "output_type": "stream",
     "text": [
      "My first bicycle was a Trek.\n"
     ]
    }
   ],
   "source": [
    "message = \"My first bicycle was a \" + bicycles[0].title() + \".\"\n",
    "print(message)"
   ]
  },
  {
   "cell_type": "code",
   "execution_count": 7,
   "id": "81112a3b",
   "metadata": {},
   "outputs": [
    {
     "name": "stdout",
     "output_type": "stream",
     "text": [
      "Sarim\n"
     ]
    }
   ],
   "source": [
    "name=['Sarim','Imtiaz','Bilal','Haider','Ali']\n",
    "print(name[0])"
   ]
  },
  {
   "cell_type": "code",
   "execution_count": null,
   "id": "78d085a6",
   "metadata": {},
   "outputs": [],
   "source": [
    "print(name[1])"
   ]
  },
  {
   "cell_type": "code",
   "execution_count": null,
   "id": "c14b1fe9",
   "metadata": {},
   "outputs": [],
   "source": [
    "print(name[2])"
   ]
  },
  {
   "cell_type": "code",
   "execution_count": null,
   "id": "e2a12c28",
   "metadata": {},
   "outputs": [],
   "source": [
    "print(name[3])"
   ]
  },
  {
   "cell_type": "code",
   "execution_count": null,
   "id": "94d9fae1",
   "metadata": {},
   "outputs": [],
   "source": [
    "print(name[4])"
   ]
  },
  {
   "cell_type": "code",
   "execution_count": null,
   "id": "1fa16044",
   "metadata": {},
   "outputs": [],
   "source": [
    "transport=['car','Bus','Motor Cycle','Train','Rickshaw']\n",
    "print(\"I would like to own a \"+transport[2])"
   ]
  },
  {
   "cell_type": "code",
   "execution_count": 1,
   "id": "0d723d6f",
   "metadata": {},
   "outputs": [
    {
     "name": "stdout",
     "output_type": "stream",
     "text": [
      "Hello Sarim we are inviting to our Dinner\n",
      "Hello Imtiaz we are inviting to our Dinner\n",
      "Hello Bilal we are inviting to our Dinner\n",
      "Hello Haider we are inviting to our Dinner\n",
      "Hello Ali we are inviting to our Dinner\n"
     ]
    }
   ],
   "source": [
    "guest=['Sarim','Imtiaz','Bilal','Haider','Ali']\n",
    "for i in range (5):\n",
    "    print(f\"Hello {guest[i]} we are inviting to our Dinner\")"
   ]
  },
  {
   "cell_type": "code",
   "execution_count": 2,
   "id": "d4bf7866",
   "metadata": {},
   "outputs": [
    {
     "name": "stdout",
     "output_type": "stream",
     "text": [
      "Enter the name Haider\n",
      "Hello Sarim we are inviting to our Dinner\n",
      "Hello Imtiaz we are inviting to our Dinner\n",
      "Hello Bilal we are inviting to our Dinner\n",
      "Hello Zamin we are inviting to our Dinner\n",
      "Hello Ali we are inviting to our Dinner\n"
     ]
    }
   ],
   "source": [
    "name=input(\"Enter the name \")\n",
    "guest[3]='Zamin'\n",
    "for i in range (4):\n",
    "    if name==guest[i]:\n",
    "        guest[i]='Zamin'\n",
    "for i in range (5):\n",
    "    print(f\"Hello {guest[i]} we are inviting to our Dinner\")"
   ]
  },
  {
   "cell_type": "code",
   "execution_count": 3,
   "id": "a99def8e",
   "metadata": {},
   "outputs": [
    {
     "name": "stdout",
     "output_type": "stream",
     "text": [
      "Hello Zahid we are inviting to our Dinner\n",
      "Hello Sarim we are inviting to our Dinner\n",
      "Hello Imtiaz we are inviting to our Dinner\n",
      "Hello Muzammil we are inviting to our Dinner\n",
      "Hello Bilal we are inviting to our Dinner\n",
      "Hello Zamin we are inviting to our Dinner\n",
      "Hello Ali we are inviting to our Dinner\n",
      "Hello Taha we are inviting to our Dinner\n"
     ]
    }
   ],
   "source": [
    "guest.insert(0,'Zahid')\n",
    "guest.insert(3,'Muzammil')\n",
    "guest.append('Taha')\n",
    "for i in range (8):\n",
    "    print(f\"Hello {guest[i]} we are inviting to our Dinner\")"
   ]
  },
  {
   "cell_type": "code",
   "execution_count": 4,
   "id": "dbabc16c",
   "metadata": {},
   "outputs": [
    {
     "name": "stdout",
     "output_type": "stream",
     "text": [
      "Sorry Tahayou can’t invite to dinner.\n",
      "Sorry Aliyou can’t invite to dinner.\n",
      "Sorry Zaminyou can’t invite to dinner.\n",
      "Sorry Bilalyou can’t invite to dinner.\n",
      "Sorry Muzammilyou can’t invite to dinner.\n",
      "Sorry Imtiazyou can’t invite to dinner.\n",
      " Zahid Your are still invite to our Dinner\n",
      " Sarim Your are still invite to our Dinner\n",
      "[]\n"
     ]
    }
   ],
   "source": [
    "print(\"Sorry \"+guest.pop()+\"you can’t invite to dinner.\")\n",
    "print(\"Sorry \"+guest.pop()+\"you can’t invite to dinner.\")\n",
    "print(\"Sorry \"+guest.pop()+\"you can’t invite to dinner.\")\n",
    "print(\"Sorry \"+guest.pop()+\"you can’t invite to dinner.\")\n",
    "print(\"Sorry \"+guest.pop()+\"you can’t invite to dinner.\")\n",
    "print(\"Sorry \"+guest.pop()+\"you can’t invite to dinner.\")\n",
    "for i in range (2):\n",
    "    print(f\" {guest[i]} Your are still invite to our Dinner\")\n",
    "del guest[1]\n",
    "del guest[0]\n",
    "print(guest)\n"
   ]
  },
  {
   "cell_type": "code",
   "execution_count": 8,
   "id": "b32cb14b",
   "metadata": {},
   "outputs": [
    {
     "data": {
      "text/plain": [
       "['hunza', 'dubai', 'baku', 'maldives', 'karachi']"
      ]
     },
     "execution_count": 8,
     "metadata": {},
     "output_type": "execute_result"
    }
   ],
   "source": [
    "places=['hunza','dubai','baku','maldives','karachi']\n",
    "places"
   ]
  },
  {
   "cell_type": "code",
   "execution_count": 12,
   "id": "f24404da",
   "metadata": {},
   "outputs": [
    {
     "name": "stdout",
     "output_type": "stream",
     "text": [
      "None\n"
     ]
    },
    {
     "data": {
      "text/plain": [
       "['baku', 'dubai', 'hunza', 'karachi', 'maldives']"
      ]
     },
     "execution_count": 12,
     "metadata": {},
     "output_type": "execute_result"
    }
   ],
   "source": [
    "print(places.sort())\n",
    "places"
   ]
  },
  {
   "cell_type": "code",
   "execution_count": 13,
   "id": "e479048a",
   "metadata": {},
   "outputs": [
    {
     "data": {
      "text/plain": [
       "['maldives', 'karachi', 'hunza', 'dubai', 'baku']"
      ]
     },
     "execution_count": 13,
     "metadata": {},
     "output_type": "execute_result"
    }
   ],
   "source": [
    "places.reverse()\n",
    "places"
   ]
  },
  {
   "cell_type": "code",
   "execution_count": 16,
   "id": "8e9094fd",
   "metadata": {},
   "outputs": [
    {
     "name": "stdout",
     "output_type": "stream",
     "text": [
      "Hello Sarim we are inviting to our Dinner\n",
      "Hello Imtiaz we are inviting to our Dinner\n",
      "Hello Bilal we are inviting to our Dinner\n",
      "Hello Haider we are inviting to our Dinner\n",
      "Hello Ali we are inviting to our Dinner\n"
     ]
    }
   ],
   "source": [
    "guest=['Sarim','Imtiaz','Bilal','Haider','Ali']\n",
    "for i in range (len(guest)):\n",
    "    print(f\"Hello {guest[i]} we are inviting to our Dinner\")"
   ]
  },
  {
   "cell_type": "code",
   "execution_count": 27,
   "id": "66349bea",
   "metadata": {},
   "outputs": [
    {
     "data": {
      "text/plain": [
       "['a',\n",
       " 'a',\n",
       " 'a',\n",
       " 'a',\n",
       " 'a',\n",
       " 'a',\n",
       " 'b',\n",
       " 'banu',\n",
       " 'i',\n",
       " 'k',\n",
       " 'karachi',\n",
       " 'karachi',\n",
       " 'l',\n",
       " 'l',\n",
       " 'm',\n",
       " 'n',\n",
       " 'quetta',\n",
       " 'r',\n",
       " 's',\n",
       " 'sukkur']"
      ]
     },
     "execution_count": 27,
     "metadata": {},
     "output_type": "execute_result"
    }
   ],
   "source": [
    "cities=['karachi','lahore','banu','sukkur']\n",
    "cities.append('karachi')\n",
    "list1=cities.copy()\n",
    "list1\n",
    "cities.count('karachi')\n",
    "cities.extend('larkana')\n",
    "cities.extend('islamabad')\n",
    "cities.index('banu')\n",
    "cities.insert(1,'quetta')\n",
    "cities.pop()\n",
    "cities.remove('lahore')\n",
    "cities.reverse()\n",
    "cities.sort()\n",
    "cities"
   ]
  },
  {
   "cell_type": "code",
   "execution_count": 28,
   "id": "b86a5bce",
   "metadata": {},
   "outputs": [
    {
     "ename": "IndexError",
     "evalue": "list index out of range",
     "output_type": "error",
     "traceback": [
      "\u001b[1;31m---------------------------------------------------------------------------\u001b[0m",
      "\u001b[1;31mIndexError\u001b[0m                                Traceback (most recent call last)",
      "Input \u001b[1;32mIn [28]\u001b[0m, in \u001b[0;36m<cell line: 2>\u001b[1;34m()\u001b[0m\n\u001b[0;32m      1\u001b[0m motorcycles \u001b[38;5;241m=\u001b[39m [\u001b[38;5;124m'\u001b[39m\u001b[38;5;124mhonda\u001b[39m\u001b[38;5;124m'\u001b[39m, \u001b[38;5;124m'\u001b[39m\u001b[38;5;124myamaha\u001b[39m\u001b[38;5;124m'\u001b[39m, \u001b[38;5;124m'\u001b[39m\u001b[38;5;124msuzuki\u001b[39m\u001b[38;5;124m'\u001b[39m]\n\u001b[1;32m----> 2\u001b[0m \u001b[38;5;28mprint\u001b[39m(\u001b[43mmotorcycles\u001b[49m\u001b[43m[\u001b[49m\u001b[38;5;241;43m3\u001b[39;49m\u001b[43m]\u001b[49m)\n",
      "\u001b[1;31mIndexError\u001b[0m: list index out of range"
     ]
    }
   ],
   "source": [
    "motorcycles = ['honda', 'yamaha', 'suzuki']\n",
    "print(motorcycles[3])"
   ]
  },
  {
   "cell_type": "code",
   "execution_count": 29,
   "id": "d579735d",
   "metadata": {},
   "outputs": [
    {
     "ename": "IndexError",
     "evalue": "list index out of range",
     "output_type": "error",
     "traceback": [
      "\u001b[1;31m---------------------------------------------------------------------------\u001b[0m",
      "\u001b[1;31mIndexError\u001b[0m                                Traceback (most recent call last)",
      "Input \u001b[1;32mIn [29]\u001b[0m, in \u001b[0;36m<cell line: 2>\u001b[1;34m()\u001b[0m\n\u001b[0;32m      1\u001b[0m Animals\u001b[38;5;241m=\u001b[39m[\u001b[38;5;124m'\u001b[39m\u001b[38;5;124mcat\u001b[39m\u001b[38;5;124m'\u001b[39m,\u001b[38;5;124m'\u001b[39m\u001b[38;5;124mdog\u001b[39m\u001b[38;5;124m'\u001b[39m,\u001b[38;5;124m'\u001b[39m\u001b[38;5;124mgoat\u001b[39m\u001b[38;5;124m'\u001b[39m,\u001b[38;5;124m'\u001b[39m\u001b[38;5;124mcow\u001b[39m\u001b[38;5;124m'\u001b[39m,\u001b[38;5;124m'\u001b[39m\u001b[38;5;124mlion\u001b[39m\u001b[38;5;124m'\u001b[39m]\n\u001b[1;32m----> 2\u001b[0m \u001b[38;5;28mprint\u001b[39m(\u001b[43mAnimals\u001b[49m\u001b[43m[\u001b[49m\u001b[38;5;241;43m5\u001b[39;49m\u001b[43m]\u001b[49m)\n",
      "\u001b[1;31mIndexError\u001b[0m: list index out of range"
     ]
    }
   ],
   "source": [
    "Animals=['cat','dog','goat','cow','lion']\n",
    "print(Animals[5])"
   ]
  },
  {
   "cell_type": "code",
   "execution_count": null,
   "id": "b7789515",
   "metadata": {},
   "outputs": [],
   "source": []
  }
 ],
 "metadata": {
  "kernelspec": {
   "display_name": "Python 3 (ipykernel)",
   "language": "python",
   "name": "python3"
  },
  "language_info": {
   "codemirror_mode": {
    "name": "ipython",
    "version": 3
   },
   "file_extension": ".py",
   "mimetype": "text/x-python",
   "name": "python",
   "nbconvert_exporter": "python",
   "pygments_lexer": "ipython3",
   "version": "3.9.12"
  }
 },
 "nbformat": 4,
 "nbformat_minor": 5
}
