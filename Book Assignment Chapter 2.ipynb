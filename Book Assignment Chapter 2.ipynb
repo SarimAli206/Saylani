{
 "cells": [
  {
   "cell_type": "markdown",
   "id": "86db03dc",
   "metadata": {},
   "source": [
    "# Chapter 2"
   ]
  },
  {
   "cell_type": "code",
   "execution_count": 7,
   "id": "af555e8f",
   "metadata": {},
   "outputs": [
    {
     "name": "stdout",
     "output_type": "stream",
     "text": [
      "Hello World\n",
      "Hello Python world!\n"
     ]
    }
   ],
   "source": [
    "print(\"Hello World\")\n",
    "message = \"Hello Python world!\"\n",
    "print(message)"
   ]
  },
  {
   "cell_type": "code",
   "execution_count": 3,
   "id": "77d98098",
   "metadata": {},
   "outputs": [
    {
     "name": "stdout",
     "output_type": "stream",
     "text": [
      "My name is Sarim \n"
     ]
    }
   ],
   "source": [
    "msg=\"My name is Sarim \"\n",
    "print(msg)\n",
    "msg=\"My name is Sarim Ali\"\n"
   ]
  },
  {
   "cell_type": "code",
   "execution_count": 4,
   "id": "a7bb0f83",
   "metadata": {},
   "outputs": [
    {
     "name": "stdout",
     "output_type": "stream",
     "text": [
      "My name is Sarim Ali\n"
     ]
    }
   ],
   "source": [
    "print(msg)"
   ]
  },
  {
   "cell_type": "code",
   "execution_count": 6,
   "id": "455bbc6a",
   "metadata": {},
   "outputs": [
    {
     "name": "stdout",
     "output_type": "stream",
     "text": [
      "Sarim Ali\n"
     ]
    }
   ],
   "source": [
    "first_name = \"Sarim\"\n",
    "last_name = \"Ali\"\n",
    "full_name = first_name + \" \" + last_name\n",
    "print(full_name)"
   ]
  },
  {
   "cell_type": "code",
   "execution_count": 12,
   "id": "43934172",
   "metadata": {},
   "outputs": [
    {
     "name": "stdout",
     "output_type": "stream",
     "text": [
      "Hello, Sarim Ali!\n"
     ]
    }
   ],
   "source": [
    "print(\"Hello, \" + full_name.title() + \"!\")"
   ]
  },
  {
   "cell_type": "code",
   "execution_count": 13,
   "id": "2871de85",
   "metadata": {},
   "outputs": [
    {
     "name": "stdout",
     "output_type": "stream",
     "text": [
      "Languages:\n",
      "\tPython\n",
      "\tC\n",
      "\tJavaScript\n"
     ]
    }
   ],
   "source": [
    "print(\"Languages:\\n\\tPython\\n\\tC\\n\\tJavaScript\")"
   ]
  },
  {
   "cell_type": "code",
   "execution_count": 14,
   "id": "ced79d33",
   "metadata": {},
   "outputs": [
    {
     "name": "stdout",
     "output_type": "stream",
     "text": [
      "python\n"
     ]
    }
   ],
   "source": [
    "favorite_language = 'python '\n",
    "favorite_language = favorite_language.rstrip()\n",
    "print(favorite_language) "
   ]
  },
  {
   "cell_type": "code",
   "execution_count": 15,
   "id": "94ec143b",
   "metadata": {},
   "outputs": [
    {
     "name": "stdout",
     "output_type": "stream",
     "text": [
      "Hello, Sarim would you like to learn some Python today\n"
     ]
    }
   ],
   "source": [
    "name=\"Sarim\"\n",
    "print(\"Hello, \"+name+\" would you like to learn some Python today\")"
   ]
  },
  {
   "cell_type": "code",
   "execution_count": 20,
   "id": "9b8b75fb",
   "metadata": {},
   "outputs": [
    {
     "name": "stdout",
     "output_type": "stream",
     "text": [
      "sarim\n"
     ]
    }
   ],
   "source": [
    "print(name.lower())"
   ]
  },
  {
   "cell_type": "code",
   "execution_count": 21,
   "id": "634876f7",
   "metadata": {},
   "outputs": [
    {
     "name": "stdout",
     "output_type": "stream",
     "text": [
      "SARIM\n"
     ]
    }
   ],
   "source": [
    "print(name.upper())"
   ]
  },
  {
   "cell_type": "code",
   "execution_count": 22,
   "id": "6c1c7391",
   "metadata": {},
   "outputs": [
    {
     "name": "stdout",
     "output_type": "stream",
     "text": [
      "Sarim\n"
     ]
    }
   ],
   "source": [
    "print(name.title())"
   ]
  },
  {
   "cell_type": "code",
   "execution_count": 23,
   "id": "775f6a28",
   "metadata": {},
   "outputs": [
    {
     "name": "stdout",
     "output_type": "stream",
     "text": [
      "Albert Einstein once said, “A person who never made a\n",
      "mistake never tried anything new.”\n"
     ]
    }
   ],
   "source": [
    "print(\"\"\"Albert Einstein once said, “A person who never made a\n",
    "mistake never tried anything new.”\"\"\")"
   ]
  },
  {
   "cell_type": "code",
   "execution_count": 28,
   "id": "b39efa97",
   "metadata": {},
   "outputs": [
    {
     "name": "stdout",
     "output_type": "stream",
     "text": [
      "Albert Einstein once said, A person who never made a mistake never tried anything new.\n"
     ]
    }
   ],
   "source": [
    "famous_person=\"Albert Einstein\"\n",
    "message=\"once said, A person who never made a mistake never tried anything new.\"\n",
    "full=famous_person+\" \"+message\n",
    "print(full)"
   ]
  },
  {
   "cell_type": "code",
   "execution_count": 32,
   "id": "fd5fa884",
   "metadata": {},
   "outputs": [
    {
     "name": "stdout",
     "output_type": "stream",
     "text": [
      "Hello\n",
      "\t How Are You\n"
     ]
    }
   ],
   "source": [
    "print(\"Hello\\n\\t How Are You\")"
   ]
  },
  {
   "cell_type": "code",
   "execution_count": 30,
   "id": "d938684d",
   "metadata": {},
   "outputs": [
    {
     "data": {
      "text/plain": [
       "'sarim '"
      ]
     },
     "execution_count": 30,
     "metadata": {},
     "output_type": "execute_result"
    }
   ],
   "source": [
    "name=\" sarim \"\n",
    "name.lstrip()"
   ]
  },
  {
   "cell_type": "code",
   "execution_count": 31,
   "id": "35aa4517",
   "metadata": {},
   "outputs": [
    {
     "data": {
      "text/plain": [
       "' sarim'"
      ]
     },
     "execution_count": 31,
     "metadata": {},
     "output_type": "execute_result"
    }
   ],
   "source": [
    "name.rstrip()"
   ]
  },
  {
   "cell_type": "code",
   "execution_count": null,
   "id": "a2d27e13",
   "metadata": {},
   "outputs": [],
   "source": [
    "age = 23\n",
    "message = \"Happy \" + str(age) + \"rd Birthday!\"\n",
    "print(message)"
   ]
  },
  {
   "cell_type": "code",
   "execution_count": 38,
   "id": "4ce5d91f",
   "metadata": {},
   "outputs": [
    {
     "name": "stdout",
     "output_type": "stream",
     "text": [
      "8\n",
      "8\n",
      "8\n",
      "8\n"
     ]
    }
   ],
   "source": [
    "print(5+3)\n",
    "print(12-4)\n",
    "print(2*4)\n",
    "print(16/2)\n",
    "\n"
   ]
  },
  {
   "cell_type": "code",
   "execution_count": 39,
   "id": "927a5175",
   "metadata": {},
   "outputs": [
    {
     "name": "stdout",
     "output_type": "stream",
     "text": [
      "Your Favourite Number is: 49!\n"
     ]
    }
   ],
   "source": [
    "fav_num = 49\n",
    "message = \"Your Favourite Number is: \" + str(fav_num) + \"!\"\n",
    "print(message)"
   ]
  },
  {
   "cell_type": "code",
   "execution_count": null,
   "id": "5bdfa2f9",
   "metadata": {},
   "outputs": [],
   "source": [
    "C"
   ]
  }
 ],
 "metadata": {
  "kernelspec": {
   "display_name": "Python 3 (ipykernel)",
   "language": "python",
   "name": "python3"
  },
  "language_info": {
   "codemirror_mode": {
    "name": "ipython",
    "version": 3
   },
   "file_extension": ".py",
   "mimetype": "text/x-python",
   "name": "python",
   "nbconvert_exporter": "python",
   "pygments_lexer": "ipython3",
   "version": "3.9.12"
  }
 },
 "nbformat": 4,
 "nbformat_minor": 5
}
