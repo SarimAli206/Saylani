{
 "cells": [
  {
   "cell_type": "code",
   "execution_count": 3,
   "id": "793705a0",
   "metadata": {},
   "outputs": [
    {
     "name": "stdout",
     "output_type": "stream",
     "text": [
      "Hello Sarim\n"
     ]
    }
   ],
   "source": [
    "name = ['Sarim','Bilal','Ali']\n",
    "if 'Sarim' in name:\n",
    "    print('Hello Sarim')\n",
    "else:\n",
    "    print('Sarim isnt here in the list!')"
   ]
  },
  {
   "cell_type": "code",
   "execution_count": 4,
   "id": "b26648a6",
   "metadata": {},
   "outputs": [
    {
     "name": "stdout",
     "output_type": "stream",
     "text": [
      "Enter your age: 34\n",
      "Adult\n"
     ]
    }
   ],
   "source": [
    "age = int(input('Enter your age: '))\n",
    "\n",
    "if age >= 18:\n",
    "    print('Adult')\n",
    "else:\n",
    "    print('Teen')"
   ]
  },
  {
   "cell_type": "markdown",
   "id": "9b0525dd",
   "metadata": {},
   "source": [
    "# 5-1. Conditional Tests:\n",
    "\n",
    "Write a series of conditional tests. Print a statement describing each test and your prediction for the results of each test. Your code should look something like this:\n",
    "\n",
    "car = 'subaru'\n",
    "\n",
    "print(\"Is car == 'subaru'? I predict True.\")\n",
    "\n",
    "print(car == 'subaru')\n",
    "\n",
    "print(\"Is car == 'audi'? I predict False.\")\n",
    "\n",
    "print(car == 'audi')\n",
    "\n",
    "• Look closely at your results, and make sure you understand why each line evaluates to True or False.\n",
    "\n",
    "• Create at least 10 tests. Have at least 5 tests evaluate to True and another 5 tests evaluate to False."
   ]
  },
  {
   "cell_type": "code",
   "execution_count": 1,
   "id": "32a3807e",
   "metadata": {},
   "outputs": [
    {
     "name": "stdout",
     "output_type": "stream",
     "text": [
      "Is motocycle == 'Honda'?\n",
      "True\n",
      "Is motocycle == 'Suzuki'?\n",
      "False\n",
      "\n",
      "\n",
      "Is city == 'Islamabad'? \n",
      "False\n",
      "Is city == 'Karachi'? \n",
      "True\n",
      "\n",
      "\n",
      "Is country == 'UK'?\n",
      "False\n",
      "Is country == 'Pakistan'?\n",
      "True\n",
      "\n",
      "\n",
      "Is flag == 'Red'?\n",
      "False\n",
      "Is flag == 'Green'?\n",
      "True\n",
      "\n",
      "\n",
      "Is founder == 'Liaquat Ali Khan'?\n",
      "False\n",
      "Is founder == 'Quaid e Azam'?\n",
      "True\n",
      "\n",
      "\n",
      "Is language == 'English'?\n",
      "False\n",
      "Is language == 'Urdu'?\n",
      "True\n",
      "\n",
      "\n",
      "Is university == 'Karachi University'?\n",
      "True\n",
      "Is university == 'Federal University'?\n",
      "False\n",
      "\n",
      "\n",
      "Is dept == 'Sociology'?\n",
      "False\n",
      "Is dept == 'UBIT'?\n",
      "True\n",
      "\n",
      "\n",
      "Is truck == 'Volkswagen'?\n",
      "False\n",
      "Is truck == 'Ford'?\n",
      "True\n",
      "\n",
      "\n",
      "Is fav_country = 'US'?\n",
      "False\n",
      "Is fav_country = 'UK'?\n",
      "True\n"
     ]
    }
   ],
   "source": [
    "motocycle = 'Honda'\n",
    "\n",
    "print(\"Is motocycle == 'Honda'?\")\n",
    "\n",
    "print(motocycle == 'Honda')\n",
    "\n",
    "print(\"Is motocycle == 'Suzuki'?\")\n",
    "\n",
    "print(motocycle == 'Suzuki')\n",
    "\n",
    "print('\\n')\n",
    "\n",
    "\n",
    "city = 'Karachi'\n",
    "\n",
    "print(\"Is city == 'Islamabad'? \")\n",
    "\n",
    "print(city == 'Islamabad')\n",
    "\n",
    "print(\"Is city == 'Karachi'? \")\n",
    "\n",
    "print(city == 'Karachi')\n",
    "\n",
    "print('\\n')\n",
    "\n",
    "\n",
    "country = 'Pakistan'\n",
    "\n",
    "print(\"Is country == 'UK'?\")\n",
    "\n",
    "print(country == 'UK')\n",
    "\n",
    "print(\"Is country == 'Pakistan'?\")\n",
    "\n",
    "print(country == 'Pakistan')\n",
    "\n",
    "print('\\n')\n",
    "\n",
    "\n",
    "\n",
    "flag :str = 'Green'\n",
    "\n",
    "\n",
    "print(\"Is flag == 'Red'?\")\n",
    "\n",
    "print(flag == 'Red')\n",
    "\n",
    "print(\"Is flag == 'Green'?\")\n",
    "\n",
    "print(flag == 'Green')\n",
    "\n",
    "print('\\n')\n",
    "\n",
    "\n",
    "\n",
    "founder = 'Quaid e Azam'\n",
    "\n",
    "print(\"Is founder == 'Liaquat Ali Khan'?\")\n",
    "\n",
    "print(founder == 'Liaquat Ali Khan')\n",
    "\n",
    "print(\"Is founder == 'Quaid e Azam'?\")\n",
    "\n",
    "print(founder == 'Quaid e Azam')\n",
    "\n",
    "print('\\n')\n",
    "\n",
    "\n",
    "language = 'Urdu'\n",
    "\n",
    "print(\"Is language == 'English'?\")\n",
    "\n",
    "print(language == 'English')\n",
    "\n",
    "print(\"Is language == 'Urdu'?\")\n",
    "\n",
    "print(language == 'Urdu')\n",
    "\n",
    "print('\\n')\n",
    "\n",
    "\n",
    "\n",
    "\n",
    "university = 'Karachi University'\n",
    "\n",
    "print(\"Is university == 'Karachi University'?\")\n",
    "\n",
    "print(university == 'Karachi University')\n",
    "\n",
    "print(\"Is university == 'Federal University'?\")\n",
    "\n",
    "print(university == 'Federal University')\n",
    "\n",
    "print('\\n')\n",
    "\n",
    "\n",
    "\n",
    "\n",
    "dept = 'UBIT'\n",
    "\n",
    "print(\"Is dept == 'Sociology'?\")\n",
    "\n",
    "print(dept == 'Sociology')\n",
    "\n",
    "print(\"Is dept == 'UBIT'?\")\n",
    "\n",
    "print(dept == 'UBIT')\n",
    "\n",
    "print('\\n')\n",
    "\n",
    "\n",
    "\n",
    "truck = 'Ford'\n",
    "\n",
    "print(\"Is truck == 'Volkswagen'?\")\n",
    "\n",
    "print(truck == 'Volkswagen')\n",
    "\n",
    "print(\"Is truck == 'Ford'?\")\n",
    "\n",
    "print(truck == 'Ford')\n",
    "\n",
    "print('\\n')\n",
    "\n",
    "\n",
    "\n",
    "fav_country = 'UK'\n",
    "\n",
    "print(\"Is fav_country = 'US'?\")\n",
    "\n",
    "print(fav_country == 'US')\n",
    "\n",
    "print(\"Is fav_country = 'UK'?\")\n",
    "\n",
    "print(fav_country == 'UK')"
   ]
  },
  {
   "cell_type": "markdown",
   "id": "2bfb3e22",
   "metadata": {},
   "source": [
    "# 5-2. More Conditional Tests:\n",
    "\n",
    "You don’t have to limit the number of tests you create to 10. If you want to try more comparisons, write more tests and add them to conditional_tests.py. Have at least one True and one False result for each of the following:\n",
    "\n",
    "• Tests for equality and inequality with strings\n",
    "\n",
    "• Tests using the lower() function\n",
    "\n",
    "• Numerical tests involving equality and inequality, greater than and less than, greater than or equal to, and less than or equal to\n",
    "\n",
    "• Tests using the and keyword and the or keyword\n",
    "\n",
    "• Test whether an item is in a list\n",
    "\n",
    "• Test whether an item is not in a list"
   ]
  },
  {
   "cell_type": "code",
   "execution_count": 3,
   "id": "fa82c3e8",
   "metadata": {},
   "outputs": [
    {
     "name": "stdout",
     "output_type": "stream",
     "text": [
      "Is fav_country = 'US'?\n",
      "False\n",
      "Is fav_country = 'UK'?\n",
      "True\n",
      "\n",
      "\n",
      "Is fav_country = 'US'?\n",
      "False\n",
      "Is fav_country = 'UK'?\n",
      "True\n",
      "\n",
      "\n",
      "Is num == '1'?\n",
      "True\n",
      "Is num < 1?\n",
      "False\n",
      "Is num > 1?\n",
      "False\n",
      "\n",
      "\n",
      "Is fav_country = 'US' and 'UK'?\n",
      "False\n",
      "Is fav_country = 'UK' or 'KSA'?\n",
      "True\n"
     ]
    }
   ],
   "source": [
    "fav_country = ['UK', 'KSA']\n",
    "\n",
    "print(\"Is fav_country = 'US'?\")\n",
    "print('US' in fav_country)\n",
    "\n",
    "print(\"Is fav_country = 'UK'?\")\n",
    "print('UK' in fav_country)\n",
    "\n",
    "print('\\n')\n",
    "\n",
    "\n",
    "fav_country = ['uk', 'ksa']\n",
    "\n",
    "print(\"Is fav_country = 'US'?\")\n",
    "print('US'.lower() in fav_country)\n",
    "\n",
    "print(\"Is fav_country = 'UK'?\")\n",
    "print('UK'.lower() in fav_country)\n",
    "\n",
    "print('\\n')\n",
    "\n",
    "\n",
    "num = 1\n",
    "print(\"Is num == '1'?\")\n",
    "print(num == 1)\n",
    "\n",
    "print(\"Is num < 1?\")\n",
    "print(num < 1)\n",
    "\n",
    "print(\"Is num > 1?\")\n",
    "print(num > 1)\n",
    "\n",
    "print('\\n')\n",
    "\n",
    "\n",
    "fav_country = ['UK', 'KSA']\n",
    "\n",
    "print(\"Is fav_country = 'US' and 'UK'?\")\n",
    "print('US' in fav_country)\n",
    "\n",
    "print(\"Is fav_country = 'UK' or 'KSA'?\")\n",
    "print('UK' in fav_country)"
   ]
  },
  {
   "cell_type": "code",
   "execution_count": 4,
   "id": "b5239e0c",
   "metadata": {},
   "outputs": [
    {
     "name": "stdout",
     "output_type": "stream",
     "text": [
      "Enter your age: 19\n",
      "Adult\n"
     ]
    }
   ],
   "source": [
    "age = int(input('Enter your age: '))\n",
    "\n",
    "if age > 18:\n",
    "    print('Adult')\n",
    "elif age == 18:\n",
    "    print('Adult, but still teen')\n",
    "else:\n",
    "    print('Teen')"
   ]
  },
  {
   "cell_type": "code",
   "execution_count": 5,
   "id": "16d0b236",
   "metadata": {},
   "outputs": [
    {
     "name": "stdout",
     "output_type": "stream",
     "text": [
      "Enter your age: 19\n",
      "Adult\n"
     ]
    }
   ],
   "source": [
    "e = int(input('Enter your age: '))\n",
    "\n",
    "if age > 18:\n",
    "    print('Adult')\n",
    "elif age == 18:\n",
    "    print('Adult, but still teen')\n",
    "elif age < 18 and age > 4:\n",
    "    print('Teen')\n",
    "else:\n",
    "    print('Toddler')"
   ]
  },
  {
   "cell_type": "code",
   "execution_count": 6,
   "id": "c942e4f3",
   "metadata": {},
   "outputs": [
    {
     "name": "stdout",
     "output_type": "stream",
     "text": [
      "Enter your age: 19\n",
      "Adult\n"
     ]
    }
   ],
   "source": [
    "age = int(input('Enter your age: '))\n",
    "\n",
    "if age > 18:\n",
    "    print('Adult')\n",
    "elif age == 18:\n",
    "    print('Adult, but still teen')\n",
    "elif age < 18:\n",
    "    print('Kid')"
   ]
  },
  {
   "cell_type": "markdown",
   "id": "38d16a14",
   "metadata": {},
   "source": [
    "# 5-3. Alien Colors\n",
    "Imagine an alien was just shot down in a game. Create a variable called alien_color and assign it a value of 'green', 'yellow', or 'red'.\n",
    "\n",
    "• Write an if statement to test whether the alien’s color is green. If it is, print a message that the player just earned 5 points.\n",
    "\n",
    "• Write one version of this program that passes the if test and another that fails. (The version that fails will have no output.)"
   ]
  },
  {
   "cell_type": "code",
   "execution_count": 11,
   "id": "cb14a4e4",
   "metadata": {},
   "outputs": [
    {
     "name": "stdout",
     "output_type": "stream",
     "text": [
      "You just earned 5 points.\n",
      "\n",
      "\n"
     ]
    }
   ],
   "source": [
    "#(a):\n",
    "alien_color = 'green'\n",
    "if alien_color == 'green':\n",
    "    print('You just earned 5 points.')\n",
    "    print('\\n')\n",
    "\n",
    "elif alien_color == 'red':\n",
    "    print('You just earned 0 points.')\n",
    "    print('\\n')\n",
    "\n",
    "\n",
    "elif alien_color == 'yellow':\n",
    "    print('You just earned 0 points.')\n",
    "    print('\\n')\n"
   ]
  },
  {
   "cell_type": "code",
   "execution_count": 13,
   "id": "dddebc8c",
   "metadata": {},
   "outputs": [],
   "source": [
    "#(a):\n",
    "alien_color = 'blue'\n",
    "if alien_color == 'green':\n",
    "    print('You just earned 5 points.')\n",
    "    print('\\n')\n",
    "\n",
    "elif alien_color == 'red':\n",
    "    print('You just earned 0 points.')\n",
    "    print('\\n')\n",
    "\n",
    "\n",
    "elif alien_color == 'yellow':\n",
    "    print('You just earned 0 points.')\n",
    "    print('\\n')\n",
    "\n",
    "    "
   ]
  },
  {
   "cell_type": "markdown",
   "id": "d9b1de77",
   "metadata": {},
   "source": [
    "# 5-4. Alien Colors:\n",
    "Choose a color for an alien as you did in Exercise 5-3, and\n",
    "\n",
    "write an if-else chain.\n",
    "\n",
    "• If the alien’s color is green, print a statement that the player just earned 5 points for shooting the alien.\n",
    "\n",
    "• If the alien’s color isn’t green, print a statement that the player just earned 10 points.\n",
    "\n",
    "• Write one version of this program that runs the if block and another that runs the else block.\n",
    "\n"
   ]
  },
  {
   "cell_type": "code",
   "execution_count": 14,
   "id": "baf542d5",
   "metadata": {},
   "outputs": [
    {
     "name": "stdout",
     "output_type": "stream",
     "text": [
      "Enter your alien color: blue\n",
      "You just earned 10 points.\n"
     ]
    }
   ],
   "source": [
    "alien_color = input('Enter your alien color: ')\n",
    "\n",
    "if alien_color == 'green':\n",
    "    print('You just earned 5 points.')\n",
    "else:\n",
    "    print('You just earned 10 points.')"
   ]
  },
  {
   "cell_type": "markdown",
   "id": "2c28f716",
   "metadata": {},
   "source": [
    "# 5-5. Alien Colors :\n",
    "Turn your if-else chain from Exercise 5-4 into an if-elifelse chain.\n",
    "\n",
    "• If the alien is green, print a message that the player earned 5 points.\n",
    "\n",
    "• If the alien is yellow, print a message that the player earned 10 points.\n",
    "\n",
    "• If the alien is red, print a message that the player earned 15 points.\n",
    "\n",
    "• Write three versions of this program, making sure each message is printed for the appropriate color alien."
   ]
  },
  {
   "cell_type": "code",
   "execution_count": 15,
   "id": "0047b083",
   "metadata": {},
   "outputs": [
    {
     "name": "stdout",
     "output_type": "stream",
     "text": [
      "Enter your alien color: red\n",
      "You just earned 10 points.\n"
     ]
    }
   ],
   "source": [
    "alien_color = input('Enter your alien color: ')\n",
    "\n",
    "if alien_color == 'green':\n",
    "    print('You just earned 5 points.')\n",
    "elif alien_color == 'yellow':\n",
    "    print('You just earned 10 points.')\n",
    "elif alien_color == 'red':\n",
    "    print('You just earned 10 points.')\n",
    "else:\n",
    "    print('You missed! Try again')"
   ]
  },
  {
   "cell_type": "markdown",
   "id": "71684b7a",
   "metadata": {},
   "source": [
    "# 5-6. Stages of Life:\n",
    "Write an if-elif-else chain that determines a person’s\n",
    "stage of life. Set a value for the variable age, and then:\n",
    "\n",
    "• If the person is less than 2 years old, print a message that the person is a baby.\n",
    "\n",
    "• If the person is at least 2 years old but less than 4, print a message that the person is a toddler.\n",
    "\n",
    "• If the person is at least 4 years old but less than 13, print a message that the person is a kid.\n",
    "\n",
    "• If the person is at least 13 years old but less than 20, print a message that the person is a teenager.\n",
    "\n",
    "• If the person is at least 20 years old but less than 65, print a message that the person is an adult.\n",
    "\n",
    "• If the person is age 65 or older, print a message that the person is an elder.\n"
   ]
  },
  {
   "cell_type": "code",
   "execution_count": 16,
   "id": "eb6cb8a3",
   "metadata": {},
   "outputs": [
    {
     "name": "stdout",
     "output_type": "stream",
     "text": [
      "Enter your name: sarim\n",
      "Enter your age: 19\n",
      " sarim You're a teen\n"
     ]
    }
   ],
   "source": [
    "name = input('Enter your name: ')\n",
    "age = float(input('Enter your age: '))\n",
    "\n",
    "if age < 2:\n",
    "    print(f\" {name} You're a baby. Aww!\")\n",
    "elif age == 2 or age < 4:\n",
    "    print(f\" {name} You're a toddler\")\n",
    "elif age == 4 or age < 13:\n",
    "    print(f\" {name} You're a kiddo\")\n",
    "elif age == 13 or age < 20:\n",
    "    print(f\" {name} You're a teen\")\n",
    "elif age == 20 or age < 65:\n",
    "    print(f\" {name} You're an adult\")\n",
    "else:\n",
    "    print(f\" {name} You're an elder\")\n"
   ]
  },
  {
   "cell_type": "markdown",
   "id": "4ebb8379",
   "metadata": {},
   "source": [
    "# 5-7. Favorite Fruit:\n",
    "Make a list of your favorite fruits, and then write a series of independent if statements that check for certain fruits in your list.\n",
    "\n",
    "• Make a list of your three favorite fruits and call it favorite_fruits.\n",
    "\n",
    "• Write five if statements. Each should check whether a certain kind of fruit is in your list. If the fruit is in your list, the if block should print a statement, such as You really like bananas!"
   ]
  },
  {
   "cell_type": "code",
   "execution_count": 17,
   "id": "9c51cc88",
   "metadata": {},
   "outputs": [
    {
     "name": "stdout",
     "output_type": "stream",
     "text": [
      "'You really like Banana'\n",
      "'You really like Apple'\n",
      "'You really like Pomegranate'\n",
      "'You really like Mango'\n",
      "'You really like Fig'\n"
     ]
    }
   ],
   "source": [
    "favorite_fruits = ['Banana', 'Apple', 'Pomegranate', 'Mango', 'Fig']\n",
    "\n",
    "if True:\n",
    "    print(f\"'You really like {favorite_fruits[0]}'\")\n",
    "if True:\n",
    "    print(f\"'You really like {favorite_fruits[1]}'\")\n",
    "if True:\n",
    "    print(f\"'You really like {favorite_fruits[2]}'\")\n",
    "if True:\n",
    "    print(f\"'You really like {favorite_fruits[3]}'\")\n",
    "if True:\n",
    "    print(f\"'You really like {favorite_fruits[4]}'\")\n",
    "else:\n",
    "    print(f\"{i in favorite_fruits}\")"
   ]
  },
  {
   "cell_type": "code",
   "execution_count": 18,
   "id": "b48dfb92",
   "metadata": {},
   "outputs": [
    {
     "name": "stdout",
     "output_type": "stream",
     "text": [
      "You inserted an non-empty list: [1, 2, 3, 4, 5, 6, 7]\n"
     ]
    }
   ],
   "source": [
    "lists1 = [1,2,3,4,5,6,7]\n",
    "\n",
    "if lists1 != []:\n",
    "    print(f'You inserted an non-empty list: {lists1}')\n",
    "else:\n",
    "    print('You inserted an empty list: []')"
   ]
  },
  {
   "cell_type": "code",
   "execution_count": 19,
   "id": "7eaf0af1",
   "metadata": {},
   "outputs": [
    {
     "name": "stdout",
     "output_type": "stream",
     "text": [
      "Bisma is not there\n"
     ]
    }
   ],
   "source": [
    "l1 = ['Noah','Usra','Mehak']\n",
    "l2 = ['Bisma','Mehak']\n",
    "\n",
    "for i in l2:\n",
    "    if i not in l1:\n",
    "        print(f\"{i} is not there\")\n",
    "    else:\n",
    "        pass"
   ]
  },
  {
   "cell_type": "markdown",
   "id": "0dbe6911",
   "metadata": {},
   "source": [
    "# 5-8. Hello Admin:\n",
    "Make a list of five or more usernames, including the name 'admin'. Imagine you are writing code that will print a greeting to each user after they log in to a website. Loop through the list, and print a greeting to each user:\n",
    "\n",
    "• If the username is 'admin', print a special greeting, such as Hello admin, would you like to see a status report?\n",
    "\n",
    "• Otherwise, print a generic greeting, such as Hello Eric, thank you for logging in again."
   ]
  },
  {
   "cell_type": "code",
   "execution_count": 20,
   "id": "20252d4c",
   "metadata": {},
   "outputs": [
    {
     "name": "stdout",
     "output_type": "stream",
     "text": [
      "Hello Noah, thank you for logging in again.\n",
      "Hello Usra, thank you for logging in again.\n",
      "Hello Mehak, thank you for logging in again.\n",
      "Hello Bisma, thank you for logging in again.\n",
      "Hello Admin, would you like to see a status report?\n"
     ]
    }
   ],
   "source": [
    "username = ['Noah','Usra','Mehak','Bisma','Admin']\n",
    "status = 'login'\n",
    "\n",
    "for i in username:\n",
    "    if status == 'login':\n",
    "        if i != 'Admin':\n",
    "            print(f'Hello {i}, thank you for logging in again.')\n",
    "        else:\n",
    "            print(f\"Hello {i}, would you like to see a status report?\")\n",
    "    else:\n",
    "        print('Login to see further steps!')"
   ]
  },
  {
   "cell_type": "markdown",
   "id": "7842de3b",
   "metadata": {},
   "source": [
    "# 5-9. No Users:\n",
    "Add an if test to hello_admin.py to make sure the list of users is not empty.\n",
    "\n",
    "• If the list is empty, print the message We need to find some users!\n",
    "\n",
    "• Remove all of the usernames from your list, and make sure the correct message is printed."
   ]
  },
  {
   "cell_type": "code",
   "execution_count": 21,
   "id": "9f58fc15",
   "metadata": {},
   "outputs": [
    {
     "name": "stdout",
     "output_type": "stream",
     "text": [
      "Wait a sec! We are removing all our users.\n",
      "Done!! \n",
      "Again, We need to find some new users!\n"
     ]
    }
   ],
   "source": [
    "if username == []:\n",
    "    print(f'We need to find some users!')\n",
    "else:\n",
    "    print(\"Wait a sec! We are removing all our users.\")\n",
    "    username.clear()\n",
    "    print('Done!! ')\n",
    "    print(f'Again, We need to find some new users!')"
   ]
  },
  {
   "cell_type": "markdown",
   "id": "4362fdfc",
   "metadata": {},
   "source": [
    "# 5-10. Checking Usernames:\n",
    "Do the following to create a program that simulates how websites ensure that everyone has a unique username.\n",
    "\n",
    "• Make a list of five or more usernames called current_users.\n",
    "\n",
    "• Make another list of five usernames called new_users. Make sure one or two of the new usernames are also in the current_users list.\n",
    "\n",
    "• Loop through the new_users list to see if each new username has already been used. If it has, print a message that the person will need to enter a new username. If a username has not been used, print a message saying that the username is available.\n",
    "\n",
    "• Make sure your comparison is case insensitive. If 'John' has been used, 'JOHN' should not be accepted."
   ]
  },
  {
   "cell_type": "code",
   "execution_count": 22,
   "id": "ec71f4a8",
   "metadata": {},
   "outputs": [
    {
     "name": "stdout",
     "output_type": "stream",
     "text": [
      "Enter your name: sarim\n",
      "Enter your name: ali\n",
      "Enter your name: bilal\n",
      "Enter your name: imtiaz\n",
      "Enter your name: haider\n",
      "['SARIM', 'ALI', 'BILAL', 'IMTIAZ', 'HAIDER']\n"
     ]
    }
   ],
   "source": [
    "current_users = []\n",
    "\n",
    "for i in range(5):\n",
    "    i = input('Enter your name: ')\n",
    "    i = i.upper()\n",
    "    current_users.append(i)\n",
    "print(current_users)"
   ]
  },
  {
   "cell_type": "code",
   "execution_count": 23,
   "id": "7b6b46a3",
   "metadata": {},
   "outputs": [
    {
     "name": "stdout",
     "output_type": "stream",
     "text": [
      "Enter your name: ahad\n",
      "Enter your name: zamin\n",
      "Enter your name: zahid\n",
      "Enter your name: sarim\n",
      "Enter your name: zulfi\n",
      "['AHAD', 'ZAMIN', 'ZAHID', 'SARIM', 'ZULFI']\n"
     ]
    }
   ],
   "source": [
    "new_users = []\n",
    "\n",
    "for j in range(5):\n",
    "    j = input('Enter your name: ')\n",
    "    j=j.upper()\n",
    "    new_users.append(j)\n",
    "print(new_users)\n"
   ]
  },
  {
   "cell_type": "code",
   "execution_count": 25,
   "id": "10716629",
   "metadata": {},
   "outputs": [
    {
     "name": "stdout",
     "output_type": "stream",
     "text": [
      "Username: AHAD is available\n",
      "Username: ZAMIN is available\n",
      "Username: ZAHID is available\n",
      "Username: SARIM has already been used, enter a new username\n",
      "Username: ZULFI is available\n"
     ]
    }
   ],
   "source": [
    "for new in new_users:\n",
    "    if new in current_users:\n",
    "        print(f'Username: {new} has already been used, enter a new username')\n",
    "    else:\n",
    "        print(f'Username: {new} is available')"
   ]
  },
  {
   "cell_type": "code",
   "execution_count": null,
   "id": "230c3cae",
   "metadata": {},
   "outputs": [],
   "source": []
  }
 ],
 "metadata": {
  "kernelspec": {
   "display_name": "Python 3 (ipykernel)",
   "language": "python",
   "name": "python3"
  },
  "language_info": {
   "codemirror_mode": {
    "name": "ipython",
    "version": 3
   },
   "file_extension": ".py",
   "mimetype": "text/x-python",
   "name": "python",
   "nbconvert_exporter": "python",
   "pygments_lexer": "ipython3",
   "version": "3.9.12"
  }
 },
 "nbformat": 4,
 "nbformat_minor": 5
}
