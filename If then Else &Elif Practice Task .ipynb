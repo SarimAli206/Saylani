{
 "cells": [
  {
   "cell_type": "raw",
   "metadata": {},
   "source": [
    "1) A company decided to give bonus of 5% to employee if his/her year of service is more than 5 years.\n",
    "Ask user for their salary and year of service and print the net bonus amount."
   ]
  },
  {
   "cell_type": "code",
   "execution_count": 4,
   "metadata": {},
   "outputs": [
    {
     "name": "stdout",
     "output_type": "stream",
     "text": [
      "Enter Your servive in this company6\n",
      "Enter Your Salary200\n",
      "Served year in this company is 6\n",
      "Your Bonus is:10.0\n",
      "Your Salary after Bonus is 210.0\n"
     ]
    }
   ],
   "source": [
    "service=int (input(\"Enter Your servive in this company\"))\n",
    "salary=int (input(\"Enter Your Salary\"))\n",
    "if service>5:\n",
    "            inc=salary*5/100\n",
    "            bonus=salary+inc\n",
    "            print(f\"Served year in this company is {service}\\nYour Bonus is:{inc}\\nYour Salary after Bonus is {bonus}\")\n",
    "else:\n",
    "     print(\"Your services to this company are less\")"
   ]
  },
  {
   "cell_type": "markdown",
   "metadata": {},
   "source": [
    "\n",
    "2) Write a program to check whether a person is eligible for voting or not. (accept age from user)"
   ]
  },
  {
   "cell_type": "code",
   "execution_count": 6,
   "metadata": {},
   "outputs": [
    {
     "name": "stdout",
     "output_type": "stream",
     "text": [
      "Enter Your Age17\n",
      "Your are not eligible for voting\n"
     ]
    }
   ],
   "source": [
    "age=int (input(\"Enter Your Age\"))\n",
    "if age>18:\n",
    "            print(\"Your are eligible for voting\")\n",
    "else:\n",
    "     print(\"Your are not eligible for voting\")"
   ]
  },
  {
   "cell_type": "markdown",
   "metadata": {},
   "source": [
    "\n",
    "3) Write a program to check whether a number entered by user is even or odd."
   ]
  },
  {
   "cell_type": "code",
   "execution_count": 9,
   "metadata": {},
   "outputs": [
    {
     "name": "stdout",
     "output_type": "stream",
     "text": [
      "Enter the number4\n",
      "Number is Even\n"
     ]
    }
   ],
   "source": [
    "num=int (input(\"Enter the number\"))\n",
    "if num%2==0:\n",
    "            print(\"Number is Even\")\n",
    "else:\n",
    "     print(\"Number is Odd\")"
   ]
  },
  {
   "cell_type": "markdown",
   "metadata": {},
   "source": [
    "4) Write a program to check whether a number is divisible by 7 or not.\n",
    "Show Answer"
   ]
  },
  {
   "cell_type": "code",
   "execution_count": 11,
   "metadata": {},
   "outputs": [
    {
     "name": "stdout",
     "output_type": "stream",
     "text": [
      "Enter the number56\n",
      "Number is Divisible by 7\n"
     ]
    }
   ],
   "source": [
    "num=int (input(\"Enter the number\"))\n",
    "if num%7==0:\n",
    "            print(\"Number is Divisible by 7\")\n",
    "else:\n",
    "     print(\"Number is not Divisible by 7\")"
   ]
  },
  {
   "cell_type": "raw",
   "metadata": {},
   "source": [
    "Q7. Write a program to display \n",
    "\"Hello\" if a number entered by user is a multiple of five , otherwise print \"Bye\"."
   ]
  },
  {
   "cell_type": "code",
   "execution_count": 13,
   "metadata": {},
   "outputs": [
    {
     "name": "stdout",
     "output_type": "stream",
     "text": [
      "Enter the number55\n",
      "Hello\n"
     ]
    }
   ],
   "source": [
    "num=int (input(\"Enter the number\"))\n",
    "if num%5==0:\n",
    "            print(\"Hello\")\n",
    "else:\n",
    "     print(\"Bye\")"
   ]
  },
  {
   "cell_type": "raw",
   "metadata": {},
   "source": [
    "\n",
    "Q8. Write a program to calculate the electricity bill (accept number of unit from user) according to the following criteria :\n",
    "             Unit                                                     Price  \n",
    "First 100 units                                               no charge\n",
    "Next 100 units                                              Rs 5 per unit\n",
    "After 200 units                                             Rs 10 per unit\n",
    "(For example if input unit is 350 than total bill amount is Rs2000)"
   ]
  },
  {
   "cell_type": "code",
   "execution_count": 3,
   "metadata": {},
   "outputs": [
    {
     "name": "stdout",
     "output_type": "stream",
     "text": [
      "Enter Your unit300\n",
      "Your Unit are 300\n",
      "Your Bill is 1500\n"
     ]
    }
   ],
   "source": [
    "unit=int (input(\"Enter Your unit\"))\n",
    "if unit<=100:\n",
    "            print(\"No charge\")\n",
    "elif unit>100 or unit<200 :\n",
    "     bill=unit*5\n",
    "     print(f\"Your Unit are {unit}\\nYour Bill is {bill}\")\n",
    "elif unit>200 :\n",
    "     bill=unit*10\n",
    "     print(f\"Your Unit are {unit}\\n Your Bill is {bill}\")"
   ]
  },
  {
   "cell_type": "raw",
   "metadata": {},
   "source": [
    "Write a program to display the last digit of a number.\n",
    "(hint : any number % 10 will return the last digit)"
   ]
  },
  {
   "cell_type": "code",
   "execution_count": 2,
   "metadata": {},
   "outputs": [],
   "source": [
    "num=int (input(\"Enter the number\"))\n",
    "if num%5==0:\n",
    "            print(\"Hello\")\n",
    "else:\n",
    "     print(\"Bye\")"
   ]
  },
  {
   "cell_type": "raw",
   "metadata": {},
   "source": [
    "\n",
    "Q10. Write a program to check whether the last digit of a number( entered by user ) is \n",
    "divisible by 3 or not."
   ]
  },
  {
   "cell_type": "code",
   "execution_count": 3,
   "metadata": {},
   "outputs": [],
   "source": [
    "#Type your code here"
   ]
  },
  {
   "cell_type": "raw",
   "metadata": {},
   "source": [
    "11) Take values of length and breadth of a rectangle from user and check if it is square or not."
   ]
  },
  {
   "cell_type": "code",
   "execution_count": 4,
   "metadata": {},
   "outputs": [],
   "source": [
    "#Type your code here "
   ]
  },
  {
   "cell_type": "raw",
   "metadata": {},
   "source": [
    "12) Take two int values from user and print greatest among them."
   ]
  },
  {
   "cell_type": "code",
   "execution_count": 5,
   "metadata": {},
   "outputs": [],
   "source": [
    "# Type your code here"
   ]
  },
  {
   "cell_type": "raw",
   "metadata": {},
   "source": [
    "14) A shop will give discount of 10% if the cost of purchased quantity is more than 1000.\n",
    "Ask user for quantity\n",
    "Suppose, one unit will cost 100.\n",
    "Judge and print total cost for user."
   ]
  },
  {
   "cell_type": "code",
   "execution_count": 5,
   "metadata": {},
   "outputs": [],
   "source": [
    "#Type your code here"
   ]
  },
  {
   "cell_type": "raw",
   "metadata": {},
   "source": [
    "15) A school has following rules for grading system:\n",
    "\n",
    "a. Below 25 - F\n",
    "\n",
    "b. 25 to 45 - E\n",
    "\n",
    "c. 45 to 50 - D\n",
    "\n",
    "d. 50 to 60 - C\n",
    "\n",
    "e. 60 to 80 - B\n",
    "\n",
    "f. Above 80 - A\n",
    "\n",
    "Ask user to enter marks and print the corresponding grade."
   ]
  },
  {
   "cell_type": "code",
   "execution_count": 18,
   "metadata": {},
   "outputs": [
    {
     "name": "stdout",
     "output_type": "stream",
     "text": [
      "Enter the marks 45\n",
      "Your Grade is E\n"
     ]
    }
   ],
   "source": [
    "num=int (input(\"Enter the marks \"))\n",
    "per=num/100*100\n",
    "Grade=None\n",
    "if num>80:\n",
    "            Grade='A'\n",
    "elif num>60 and num<=80:\n",
    "            Grade='B'\n",
    "elif num>50 and num<=60:\n",
    "            Grade='C'\n",
    "elif num>45 and num<=50:\n",
    "            Grade='D'\n",
    "elif num>25 and num<=45:\n",
    "            Grade='E'\n",
    "elif num<=25:\n",
    "            Grade='F'\n",
    "print(f\"Your Grade is {Grade}\")     "
   ]
  },
  {
   "cell_type": "raw",
   "metadata": {},
   "source": [
    "16) Take input of age of 3 people by user and determine oldest and youngest among them."
   ]
  },
  {
   "cell_type": "code",
   "execution_count": 6,
   "metadata": {},
   "outputs": [],
   "source": [
    "#Type your code here"
   ]
  },
  {
   "cell_type": "raw",
   "metadata": {},
   "source": [
    "17)A student will not be allowed to sit in exam if his/her attendence is less than 75%.\n",
    "\n",
    "Take following input from user\n",
    "\n",
    "Number of classes held\n",
    "\n",
    "Number of classes attended.\n",
    "\n",
    "And print\n",
    "\n",
    "percentage of class attended\n",
    "\n",
    "Is student is allowed to sit in exam or not.\n"
   ]
  },
  {
   "cell_type": "code",
   "execution_count": 8,
   "metadata": {},
   "outputs": [
    {
     "name": "stdout",
     "output_type": "stream",
     "text": [
      "Enter  Classes Held16\n",
      "Enter Classes you Attend13\n",
      "Your Attendence  is 81.25% So your allowed to sit in Exam\n"
     ]
    }
   ],
   "source": [
    "held=int (input(\"Enter  Classes Held\"))\n",
    "attend=int (input(\"Enter Classes you Attend\"))\n",
    "per=attend/held*100\n",
    "\n",
    "if per>=75:\n",
    "            \n",
    "            print(f\"Your Attendence  is {per}% So your allowed to sit in Exam\")\n",
    "else:\n",
    "     print(f\"Your Attendence  is {per}% So your not allowed to sit in Exam\")"
   ]
  },
  {
   "cell_type": "markdown",
   "metadata": {},
   "source": [
    "18) Modify the above question to allow student to sit if he/she has medical cause. Ask user if he/she has medical cause or not ( 'Y' or 'N' ) and print accordingly."
   ]
  },
  {
   "cell_type": "code",
   "execution_count": 9,
   "metadata": {},
   "outputs": [],
   "source": [
    "#Type your code here"
   ]
  },
  {
   "cell_type": "raw",
   "metadata": {},
   "source": [
    "19) Write a program to check if a year is leap year or not.\n",
    "\n",
    "If a year is divisible by 4 then it is leap year but if the year is century year like 2000, 1900, 2100 then it must be divisible by 400."
   ]
  },
  {
   "cell_type": "code",
   "execution_count": 3,
   "metadata": {},
   "outputs": [
    {
     "name": "stdout",
     "output_type": "stream",
     "text": [
      "Enter the Year2004\n",
      "Leap Year\n"
     ]
    }
   ],
   "source": [
    "year=int (input(\"Enter the Year\"))\n",
    "if year%4==0:\n",
    "            print(\"Leap Year\")\n",
    "else:\n",
    "     print(\"No Leap Year\")"
   ]
  },
  {
   "cell_type": "raw",
   "metadata": {},
   "source": [
    "20) Ask user to enter age, gender ( M or F ), marital status ( Y or N ) and then using following rules print their place of service.\n",
    "\n",
    "if employee is female, then she will work only in urban areas.\n",
    "\n",
    "if employee is a male and age is in between 20 to 40 then he may work in anywhere\n",
    "\n",
    "if employee is male and age is in between 40 t0 60 then he will work in urban areas only.\n",
    "\n",
    "And any other input of age should print \"ERROR\""
   ]
  },
  {
   "cell_type": "code",
   "execution_count": 4,
   "metadata": {},
   "outputs": [
    {
     "name": "stdout",
     "output_type": "stream",
     "text": [
      "Enter Your Age51\n",
      "Enter Your Gendermale\n",
      "He will only work in urban areas only\n"
     ]
    }
   ],
   "source": [
    "age=int(input(\"Enter Your Age\"))\n",
    "gender=input(\"Enter Your Gender\")\n",
    "if gender==\"female\":\n",
    "        print(\"She only works in Urban\")\n",
    "elif gender=='male':\n",
    "        if age<=40 and age>=20:           \n",
    "            print(\"He May work Everywhere \")\n",
    "        elif age<=60 and age>40:\n",
    "            print(\"He will  work in urban areas only\")\n",
    "        else:\n",
    "            print(\"Error\")\n",
    "else:\n",
    "        print(\"ERROR\")"
   ]
  },
  {
   "cell_type": "code",
   "execution_count": null,
   "metadata": {},
   "outputs": [],
   "source": []
  },
  {
   "cell_type": "code",
   "execution_count": null,
   "metadata": {},
   "outputs": [],
   "source": []
  }
 ],
 "metadata": {
  "kernelspec": {
   "display_name": "Python 3 (ipykernel)",
   "language": "python",
   "name": "python3"
  },
  "language_info": {
   "codemirror_mode": {
    "name": "ipython",
    "version": 3
   },
   "file_extension": ".py",
   "mimetype": "text/x-python",
   "name": "python",
   "nbconvert_exporter": "python",
   "pygments_lexer": "ipython3",
   "version": "3.9.12"
  }
 },
 "nbformat": 4,
 "nbformat_minor": 2
}
