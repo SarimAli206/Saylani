{
 "cells": [
  {
   "cell_type": "code",
   "execution_count": 1,
   "id": "13bcfcc3",
   "metadata": {},
   "outputs": [
    {
     "name": "stdout",
     "output_type": "stream",
     "text": [
      "Enter the numerator0\n",
      "Enter the denominator4\n",
      "0.0\n"
     ]
    }
   ],
   "source": [
    "try:\n",
    "    n1=int(input(\"Enter the numerator\"))\n",
    "    n2=int(input(\"Enter the denominator\"))\n",
    "    ans=n1/n2\n",
    "except ZeroDivisionError:\n",
    "    print(\"you can't divide a number by 0\")\n",
    "except ValueError:\n",
    "    print(\"Input a number\")\n",
    "else:\n",
    "    print(ans)"
   ]
  },
  {
   "cell_type": "code",
   "execution_count": 2,
   "id": "851edcc4",
   "metadata": {},
   "outputs": [
    {
     "name": "stdout",
     "output_type": "stream",
     "text": [
      "Enter the numerator5\n",
      "Enter the denominator0\n",
      "you can't divide a number by 0\n"
     ]
    }
   ],
   "source": [
    "d=[]\n",
    "try:\n",
    "    n1=int(input(\"Enter the numerator\"))\n",
    "    n2=int(input(\"Enter the denominator\"))\n",
    "    ans=n1/n2\n",
    "    e=d[5]\n",
    "    print(e)\n",
    "except ZeroDivisionError:\n",
    "    print(\"you can't divide a number by 0\")\n",
    "except ValueError:\n",
    "    print(\"Input a number\")\n",
    "except IndexError:\n",
    "    print(\"Enter correct index\")\n",
    "else:\n",
    "    print(ans)"
   ]
  },
  {
   "cell_type": "code",
   "execution_count": 3,
   "id": "cbba3e9f",
   "metadata": {},
   "outputs": [
    {
     "name": "stdout",
     "output_type": "stream",
     "text": [
      "Enter the numerator5\n",
      "Enter the denominator6\n",
      "0.8333333333333334\n",
      "always run\n"
     ]
    }
   ],
   "source": [
    "try:\n",
    "    n1=int(input(\"Enter the numerator\"))\n",
    "    n2=int(input(\"Enter the denominator\"))\n",
    "    ans=n1/n2\n",
    "\n",
    "except Exception as e:\n",
    "    print(\"Error= \"+str(e))\n",
    "else:\n",
    "    print(ans)\n",
    "finally:\n",
    "    print(\"always run\")"
   ]
  },
  {
   "cell_type": "code",
   "execution_count": 4,
   "id": "b8b61b48",
   "metadata": {},
   "outputs": [],
   "source": [
    "class Human:\n",
    "\n",
    "    def __init__(self,name,age):\n",
    "        if age>80 or age<16:\n",
    "            raise StudentAgeException(\"Age can not be greater then 80 and less then 16\")\n",
    "        self.name=name\n",
    "        self.age=age\n",
    "    def description(self):\n",
    "        print(f\"{self.name} is {self.age} year old\")\n",
    "    def sleep(self):\n",
    "        print(f\"{self.name} is Sleeping\")\n",
    "class StudentAgeException(Exception):\n",
    "    pass\n"
   ]
  },
  {
   "cell_type": "code",
   "execution_count": 5,
   "id": "4f10a287",
   "metadata": {},
   "outputs": [
    {
     "name": "stdout",
     "output_type": "stream",
     "text": [
      "Enter the Age 12\n",
      "StudentAgeException == Age can not be greater then 80 and less then 16\n"
     ]
    }
   ],
   "source": [
    "try:\n",
    "    age=int(input(\"Enter the Age \"))\n",
    "    h1=Human('Sarim',age)\n",
    "except StudentAgeException as e:\n",
    "    print(\"StudentAgeException == \"+str(e))\n",
    "else :\n",
    "    print(h1.age) "
   ]
  },
  {
   "cell_type": "code",
   "execution_count": null,
   "id": "50001df5",
   "metadata": {},
   "outputs": [],
   "source": []
  }
 ],
 "metadata": {
  "kernelspec": {
   "display_name": "Python 3 (ipykernel)",
   "language": "python",
   "name": "python3"
  },
  "language_info": {
   "codemirror_mode": {
    "name": "ipython",
    "version": 3
   },
   "file_extension": ".py",
   "mimetype": "text/x-python",
   "name": "python",
   "nbconvert_exporter": "python",
   "pygments_lexer": "ipython3",
   "version": "3.9.12"
  }
 },
 "nbformat": 4,
 "nbformat_minor": 5
}
