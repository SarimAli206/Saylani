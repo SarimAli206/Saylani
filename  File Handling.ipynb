{
 "cells": [
  {
   "cell_type": "code",
   "execution_count": 8,
   "id": "7bfced03",
   "metadata": {},
   "outputs": [],
   "source": [
    " with open('greet.txt','w') as f:\n",
    "    f.write(\"Hello\\nMy name is Sarim Ali\")"
   ]
  },
  {
   "cell_type": "code",
   "execution_count": null,
   "id": "48155063",
   "metadata": {},
   "outputs": [],
   "source": [
    "with open('greet.txt','r') as f:\n",
    "    print(f.read())"
   ]
  },
  {
   "cell_type": "code",
   "execution_count": null,
   "id": "2613df5c",
   "metadata": {},
   "outputs": [],
   "source": [
    "import json\n",
    "customer_29876 = {\n",
    "\"first name\": \"David\",\n",
    "\"last name\": \"Elliott\",\n",
    "\"address\": \"4803 Wellesley St.\"}\n",
    "\n",
    "with open(\"abc.json\",\"w\") as f :\n",
    "    json.dump(customer_29876,f"
   ]
  },
  {
   "cell_type": "code",
   "execution_count": 1,
   "id": "4243d311",
   "metadata": {},
   "outputs": [],
   "source": [
    "import csv\n",
    "header=['name','age','work']\n",
    "data=[\n",
    "    ['Sarim',19,'BSAI'],\n",
    "    ['Muhammad Ali',57,'Engineer'],\n",
    "    ['Farhan',30,'Teacher'],\n",
    "    ['Imtiaz',24,'BBA']\n",
    "]\n",
    "with open('family.csv','w',encoding='UTF8',newline='') as f:\n",
    "    writer=csv.writer(f)\n",
    "    writer.writerow(header)\n",
    "    writer.writerows(data)"
   ]
  },
  {
   "cell_type": "code",
   "execution_count": null,
   "id": "937b08cd",
   "metadata": {},
   "outputs": [],
   "source": [
    "import csv\n",
    "\n",
    "with open('employee_file2.csv', mode='w') as csv_file:\n",
    "    fieldnames = ['emp_name', 'dept', 'birth_month']\n",
    "    writer = csv.DictWriter(csv_file, fieldnames=fieldnames)\n",
    "\n",
    "    writer.writeheader()\n",
    "    writer.writerow({'emp_name': 'John Smith', 'dept': 'Accounting', 'birth_month': 'November'})\n",
    "    writer.writerow({'emp_name': ' Meyers', 'dept': 'IT', 'birth_month': 'March'})"
   ]
  }
 ],
 "metadata": {
  "kernelspec": {
   "display_name": "Python 3 (ipykernel)",
   "language": "python",
   "name": "python3"
  },
  "language_info": {
   "codemirror_mode": {
    "name": "ipython",
    "version": 3
   },
   "file_extension": ".py",
   "mimetype": "text/x-python",
   "name": "python",
   "nbconvert_exporter": "python",
   "pygments_lexer": "ipython3",
   "version": "3.9.12"
  }
 },
 "nbformat": 4,
 "nbformat_minor": 5
}
